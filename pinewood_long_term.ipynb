{
 "cells": [
  {
   "cell_type": "code",
   "execution_count": null,
   "metadata": {},
   "outputs": [],
   "source": [
    "%matplotlib inline\n",
    "from datetime import datetime, date  # working with date and time\n",
    "import matplotlib.pyplot as plt      # graphing\n",
    "import numpy as np                   # math\n",
    "import os                            # useful for handling filenames etc.\n",
    "import pandas as pd                  # manipulating data\n",
    "from scipy.stats import pearsonr     # calculates the Pearson correlation coefficient and p-value\n",
    "import seaborn as sns                # makes matplotlib beautiful\n",
    "sns.set_style('darkgrid')\n",
    "import weather_station_utils as wsu  # helper functions for WeatherUnderground data\n",
    "\n",
    "import matplotlib as mpl             # control formatting\n",
    "mpl.rcParams['axes.titlesize'] = 16\n",
    "mpl.rcParams['axes.titleweight'] = 'semibold'\n",
    "\n",
    "# interactive graphs\n",
    "from bokeh.io import output_notebook, show, push_notebook\n",
    "from bokeh.plotting import figure\n",
    "from bokeh.layouts import row, column\n",
    "from bokeh.models import DatetimeTickFormatter\n",
    "output_notebook()"
   ]
  }
 ],
 "metadata": {
  "kernelspec": {
   "display_name": "Python 3",
   "language": "python",
   "name": "python3"
  },
  "language_info": {
   "codemirror_mode": {
    "name": "ipython",
    "version": 3
   },
   "file_extension": ".py",
   "mimetype": "text/x-python",
   "name": "python",
   "nbconvert_exporter": "python",
   "pygments_lexer": "ipython3",
   "version": "3.6.5"
  }
 },
 "nbformat": 4,
 "nbformat_minor": 2
}
